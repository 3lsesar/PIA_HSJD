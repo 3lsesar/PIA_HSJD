{
 "cells": [
  {
   "cell_type": "code",
   "execution_count": null,
   "id": "a4465599",
   "metadata": {},
   "outputs": [],
   "source": [
    "git clone https://github.com/ggerganov/llama.cpp\n",
    "cd llama.cpp\n",
    "\n",
    ":: Intenta compilar con soporte CUDA\n",
    "cmake -B build -DLLAMA_CUBLAS=ON\n",
    "cmake --build build --config Release\n",
    "\n",
    ":: Si falla, compila para CPU\n",
    ":: cmake -B build -DLLAMA_CUBLAS=OFF\n",
    ":: cmake --build build --config Release\n"
   ]
  }
 ],
 "metadata": {
  "language_info": {
   "name": "python"
  }
 },
 "nbformat": 4,
 "nbformat_minor": 5
}
